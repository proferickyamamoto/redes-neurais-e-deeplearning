{
  "nbformat": 4,
  "nbformat_minor": 0,
  "metadata": {
    "colab": {
      "provenance": []
    },
    "kernelspec": {
      "name": "python3",
      "display_name": "Python 3"
    },
    "language_info": {
      "name": "python"
    }
  },
  "cells": [
    {
      "cell_type": "code",
      "execution_count": 1,
      "metadata": {
        "id": "Ler7Vv5XOyvy"
      },
      "outputs": [],
      "source": [
        "# @title Importação das Bibliotecas Necessárias\n",
        "import numpy as np\n",
        "import pandas as pd"
      ]
    },
    {
      "cell_type": "code",
      "source": [
        "# @title Carregamento e Padronização dos Dados\n",
        "# Criação de um DataFrame de exemplo\n",
        "data = {\n",
        "    'F1': [1, 5, 1, 5, 8],\n",
        "    'F2': [2, 5, 4, 3, 1],\n",
        "    'F3': [3, 6, 2, 2, 2],\n",
        "    'F4': [4, 7, 3, 1, 2]\n",
        "}\n",
        "df = pd.DataFrame(data)\n",
        "\n",
        "# Padronização dos dados (subtraindo a média e dividindo pelo desvio padrão)\n",
        "df_standardized = (df - df.mean()) / df.std()"
      ],
      "metadata": {
        "id": "3adceHUVQHo5"
      },
      "execution_count": 2,
      "outputs": []
    },
    {
      "cell_type": "code",
      "source": [
        "# @title Cálculo da Matriz de Covariância\n",
        "\n",
        "# Calculando a matriz de covariância\n",
        "cov_matrix = np.cov(df_standardized, rowvar=False)"
      ],
      "metadata": {
        "id": "4GQR1m5tQUXQ"
      },
      "execution_count": 3,
      "outputs": []
    },
    {
      "cell_type": "code",
      "source": [
        "# @title Cálculo dos Autovalores e Autovetores\n",
        "# Calculando autovalores e autovetores\n",
        "eigenvalues, eigenvectors = np.linalg.eig(cov_matrix)\n",
        "print(f'\\n Os autovalores são: {eigenvalues}')\n",
        "print(f'\\n Os autovetores são:\\n {eigenvectors}')"
      ],
      "metadata": {
        "colab": {
          "base_uri": "https://localhost:8080/"
        },
        "id": "UawbSMkbQkW1",
        "outputId": "75edb197-f124-4752-86f0-7fd5148c415b"
      },
      "execution_count": 8,
      "outputs": [
        {
          "output_type": "stream",
          "name": "stdout",
          "text": [
            "\n",
            " Os autovalores são: [2.51579324 1.0652885  0.39388704 0.02503121]\n",
            "\n",
            " Os autovetores são:\n",
            " [[ 0.16195986 -0.91705888 -0.30707099  0.19616173]\n",
            " [-0.52404813  0.20692161 -0.81731886  0.12061043]\n",
            " [-0.58589647 -0.3205394   0.1882497  -0.72009851]\n",
            " [-0.59654663 -0.11593512  0.44973251  0.65454704]]\n"
          ]
        }
      ]
    },
    {
      "cell_type": "code",
      "source": [
        "# @title Ordenação dos Autovalores e Seleção dos Componentes Principais\n",
        "\n",
        "# Ordenando autovalores e autovetores\n",
        "idx = eigenvalues.argsort()[::-1]\n",
        "eigenvalues = eigenvalues[idx]\n",
        "eigenvectors = eigenvectors[:, idx]\n",
        "\n",
        "print(f'\\n Os autovalores são: {eigenvalues}')\n",
        "print(f'\\n Os autovetores são:\\n {eigenvectors}')\n",
        "\n",
        "# Calculando a variância explicada\n",
        "explained_variance_ratio = eigenvalues / eigenvalues.sum()"
      ],
      "metadata": {
        "colab": {
          "base_uri": "https://localhost:8080/"
        },
        "id": "jHFN5GI9QoSC",
        "outputId": "69274e0d-36a8-4896-9b8f-2e392527e9bd"
      },
      "execution_count": 9,
      "outputs": [
        {
          "output_type": "stream",
          "name": "stdout",
          "text": [
            "\n",
            " Os autovalores são: [2.51579324 1.0652885  0.39388704 0.02503121]\n",
            "\n",
            " Os autovetores são:\n",
            " [[ 0.16195986 -0.91705888 -0.30707099  0.19616173]\n",
            " [-0.52404813  0.20692161 -0.81731886  0.12061043]\n",
            " [-0.58589647 -0.3205394   0.1882497  -0.72009851]\n",
            " [-0.59654663 -0.11593512  0.44973251  0.65454704]]\n"
          ]
        }
      ]
    },
    {
      "cell_type": "code",
      "source": [
        "# @title Transformação dos Dados para o Novo Espaço\n",
        "# Transformando os dados\n",
        "eigenvectors_selected = eigenvectors[:, :2]\n",
        "print(f'As duas colunas selecionadas: \\n {eigenvectors_selected}')\n",
        "df_pca = np.dot(df_standardized, eigenvectors_selected)\n",
        "\n",
        "# Convertendo o resultado para um DataFrame para melhor visualização\n",
        "df_pca = pd.DataFrame(df_pca, columns=[f'PC{i+1}' for i in range(df_pca.shape[1])])"
      ],
      "metadata": {
        "colab": {
          "base_uri": "https://localhost:8080/"
        },
        "id": "_YbOg94-Qus5",
        "outputId": "162490ca-67bc-4cd9-b6b9-7e8c6c1cb979"
      },
      "execution_count": 20,
      "outputs": [
        {
          "output_type": "stream",
          "name": "stdout",
          "text": [
            "As duas colunas selecionadas: \n",
            " [[ 0.16195986 -0.91705888]\n",
            " [-0.52404813  0.20692161]\n",
            " [-0.58589647 -0.3205394 ]\n",
            " [-0.59654663 -0.11593512]]\n"
          ]
        }
      ]
    },
    {
      "cell_type": "code",
      "source": [
        "# @title Visualização dos Resultados\n",
        "# Exibindo a variância explicada por cada componente principal\n",
        "print(\"Variância explicada por cada componente principal:\")\n",
        "print(explained_variance_ratio)\n",
        "\n",
        "# Exibindo os dados transformados\n",
        "print(\"\\nDados transformados:\")\n",
        "print(f'{df_standardized} \\n\\n  {eigenvectors_selected} \\n\\n {df_pca}')"
      ],
      "metadata": {
        "colab": {
          "base_uri": "https://localhost:8080/"
        },
        "id": "zYCkUdMfQ4CC",
        "outputId": "2905b5b2-303d-43d8-9eb9-4b443a767ef0"
      },
      "execution_count": 22,
      "outputs": [
        {
          "output_type": "stream",
          "name": "stdout",
          "text": [
            "Variância explicada por cada componente principal:\n",
            "[0.62894831 0.26632213 0.09847176 0.0062578 ]\n",
            "\n",
            "Dados transformados:\n",
            "         F1        F2        F3        F4\n",
            "0 -1.000000 -0.632456  0.000000  0.260623\n",
            "1  0.333333  1.264911  1.732051  1.563740\n",
            "2 -1.000000  0.632456 -0.577350 -0.173749\n",
            "3  0.333333  0.000000 -0.577350 -1.042493\n",
            "4  1.333333 -1.264911 -0.577350 -0.608121 \n",
            "\n",
            "  [[ 0.16195986 -0.91705888]\n",
            " [-0.52404813  0.20692161]\n",
            " [-0.58589647 -0.3205394 ]\n",
            " [-0.59654663 -0.11593512]] \n",
            "\n",
            "         PC1       PC2\n",
            "0  0.014003  0.755975\n",
            "1 -2.556534 -0.780432\n",
            "2 -0.051480  1.253135\n",
            "3  1.014150  0.000239\n",
            "4  1.579861 -1.228917\n"
          ]
        }
      ]
    }
  ]
}
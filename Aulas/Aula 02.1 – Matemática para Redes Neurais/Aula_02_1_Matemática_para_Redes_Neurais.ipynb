{
  "nbformat": 4,
  "nbformat_minor": 0,
  "metadata": {
    "colab": {
      "provenance": []
    },
    "kernelspec": {
      "name": "python3",
      "display_name": "Python 3"
    },
    "language_info": {
      "name": "python"
    }
  },
  "cells": [
    {
      "cell_type": "code",
      "execution_count": 11,
      "metadata": {
        "id": "gzvtJy7dkmEj"
      },
      "outputs": [],
      "source": [
        "# @title Importação das Bibliotecas Necessárias\n",
        "import numpy as np # manipulação de números, vetores e matrizes\n",
        "import sympy as sp # cálculos diferenciais, derivadas e integrais"
      ]
    },
    {
      "cell_type": "code",
      "source": [
        "# @title Álgebra Linear - Soma de Matrizes e Vetores\n",
        "A = np.array([[1, 2], [3, 4]])\n",
        "B = np.array([[5, 6], [7, 8]])\n",
        "C = A + B\n",
        "print(f'A SOMA entre a matriz A e a matriz B é: \\n{C}')"
      ],
      "metadata": {
        "colab": {
          "base_uri": "https://localhost:8080/"
        },
        "id": "IamLZFddk9-O",
        "outputId": "c038c3ba-a9c7-4e9b-8524-abf3115b5e73"
      },
      "execution_count": 5,
      "outputs": [
        {
          "output_type": "stream",
          "name": "stdout",
          "text": [
            "A SOMA entre a matriz A e a matriz B é: \n",
            "[[ 6  8]\n",
            " [10 12]]\n"
          ]
        }
      ]
    },
    {
      "cell_type": "code",
      "source": [
        "# @title Álgebra Linear - Multiplicação de Matriz por Escalar\n",
        "A = np.array([[1, 2], [3, 4]])\n",
        "scalar = 2\n",
        "C = scalar * A\n",
        "print(f'A MULTIPLICAÇÃO entre a matriz A e lambda(scalar) é:\\n {C}')"
      ],
      "metadata": {
        "colab": {
          "base_uri": "https://localhost:8080/"
        },
        "id": "USDxUzVdlYTE",
        "outputId": "0c81fc8a-c8dd-4dfc-8d48-9f362d033f9c"
      },
      "execution_count": 6,
      "outputs": [
        {
          "output_type": "stream",
          "name": "stdout",
          "text": [
            "A MULTIPLICAÇÃO entre a matriz A e lambda(scalar) é:\n",
            " [[2 4]\n",
            " [6 8]]\n"
          ]
        }
      ]
    },
    {
      "cell_type": "code",
      "source": [
        "# @title Álgebra Linear - Multiplicação Matricial\n",
        "A = np.array([[1, 2], [3, 4]])\n",
        "B = np.array([[5, 6], [7, 8]])\n",
        "C = np.dot(A, B)  # Ou A @ B\n",
        "print(f'A MULTIPLICAÇÃO entre a matriz A e a matriz B é:\\n{C}')\n"
      ],
      "metadata": {
        "colab": {
          "base_uri": "https://localhost:8080/"
        },
        "id": "Kj7AFHSkluS9",
        "outputId": "f56d5376-2045-4189-eeab-fdb5a8f0183f"
      },
      "execution_count": 8,
      "outputs": [
        {
          "output_type": "stream",
          "name": "stdout",
          "text": [
            "A MULTIPLICAÇÃO entre a matriz A e a matriz B é:\n",
            "[[19 22]\n",
            " [43 50]]\n"
          ]
        }
      ]
    },
    {
      "cell_type": "code",
      "source": [
        "# @title Álgebra Linear - Transposição de Matrizes\n",
        "A = np.array([[1, 2], [3, 4]])\n",
        "A_T = A.T\n",
        "print(f'A matriz transposta de A é: \\n{A_T}')"
      ],
      "metadata": {
        "colab": {
          "base_uri": "https://localhost:8080/"
        },
        "id": "yj9oq8qUmJEG",
        "outputId": "34499107-4f26-4e5d-dc4a-b495fd793366"
      },
      "execution_count": 9,
      "outputs": [
        {
          "output_type": "stream",
          "name": "stdout",
          "text": [
            "A matriz transposta de A é: \n",
            "[[1 3]\n",
            " [2 4]]\n"
          ]
        }
      ]
    },
    {
      "cell_type": "code",
      "source": [
        "# @title Cálculo Diferencial -  Derivadas Parciais\n",
        "# Definindo as variáveis\n",
        "x, y = sp.symbols('x y')\n",
        "\n",
        "# Definindo a função\n",
        "f = x**2 + 3*x*y + y**2\n",
        "\n",
        "# Cálculo das derivadas parciais\n",
        "df_dx = sp.diff(f, x)\n",
        "df_dy = sp.diff(f, y)\n",
        "\n",
        "print(\"Derivada parcial em relação a x:\", df_dx)\n",
        "print(\"Derivada parcial em relação a y:\", df_dy)"
      ],
      "metadata": {
        "colab": {
          "base_uri": "https://localhost:8080/"
        },
        "id": "aWqEVIdzmalp",
        "outputId": "98fe26e6-d435-4843-8b56-8ea13ce7fcce"
      },
      "execution_count": 12,
      "outputs": [
        {
          "output_type": "stream",
          "name": "stdout",
          "text": [
            "Derivada parcial em relação a x: 2*x + 3*y\n",
            "Derivada parcial em relação a y: 3*x + 2*y\n"
          ]
        }
      ]
    },
    {
      "cell_type": "code",
      "source": [
        "# @title Gradiente Descendente\n",
        "def mse(y_real, y_pred):\n",
        "    return np.mean((y_real - y_pred) ** 2)\n",
        "\n",
        "def gradient(y_real, y_pred, x):\n",
        "    return -2 * np.mean((y_real - y_pred) * x)\n",
        "\n",
        "# Inicialização\n",
        "w = 0\n",
        "alpha = 0.1\n",
        "num_steps = 10\n",
        "y_real = np.array([3, 5, 7, 9])\n",
        "x = np.array([1, 2, 3, 4])\n",
        "\n",
        "for i in range(num_steps):\n",
        "    y_pred = w * x\n",
        "    grad = gradient(y_real, y_pred, x)\n",
        "    w = w - alpha * grad\n",
        "    print(f\"Passo {i+1}: w = {w:.4f}, MSE = {mse(y_real, y_pred):.4f}\")"
      ],
      "metadata": {
        "colab": {
          "base_uri": "https://localhost:8080/"
        },
        "id": "Kkg_3Qcsm_dv",
        "outputId": "028acdaf-1ea9-4afd-96d3-1c5f9dc7ba45"
      },
      "execution_count": 13,
      "outputs": [
        {
          "output_type": "stream",
          "name": "stdout",
          "text": [
            "Passo 1: w = 3.5000, MSE = 41.0000\n",
            "Passo 2: w = 1.7500, MSE = 10.3750\n",
            "Passo 3: w = 2.6250, MSE = 2.7188\n",
            "Passo 4: w = 2.1875, MSE = 0.8047\n",
            "Passo 5: w = 2.4062, MSE = 0.3262\n",
            "Passo 6: w = 2.2969, MSE = 0.2065\n",
            "Passo 7: w = 2.3516, MSE = 0.1766\n",
            "Passo 8: w = 2.3242, MSE = 0.1692\n",
            "Passo 9: w = 2.3379, MSE = 0.1673\n",
            "Passo 10: w = 2.3311, MSE = 0.1668\n"
          ]
        }
      ]
    },
    {
      "cell_type": "code",
      "source": [],
      "metadata": {
        "id": "YTQNigrcnWQN"
      },
      "execution_count": null,
      "outputs": []
    }
  ]
}
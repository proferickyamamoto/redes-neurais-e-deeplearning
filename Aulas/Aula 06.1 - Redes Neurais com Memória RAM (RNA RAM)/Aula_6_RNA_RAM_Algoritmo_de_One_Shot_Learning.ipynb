{
  "nbformat": 4,
  "nbformat_minor": 0,
  "metadata": {
    "colab": {
      "provenance": []
    },
    "kernelspec": {
      "name": "python3",
      "display_name": "Python 3"
    },
    "language_info": {
      "name": "python"
    }
  },
  "cells": [
    {
      "cell_type": "code",
      "execution_count": 1,
      "metadata": {
        "colab": {
          "base_uri": "https://localhost:8080/"
        },
        "id": "rbEH-TWviRE_",
        "outputId": "e86fe51a-eb6f-4535-b31b-901b6977bc29"
      },
      "outputs": [
        {
          "output_type": "execute_result",
          "data": {
            "text/plain": [
              "True"
            ]
          },
          "metadata": {},
          "execution_count": 1
        }
      ],
      "source": [
        "# Entendendo o função set()\n",
        "s = set()\n",
        "s.add((1,0,1)) # adiciona a tupla ao conjunto\n",
        "(1,0,1) in s # retornar True se a tupla estiver no conjunto"
      ]
    },
    {
      "cell_type": "code",
      "source": [
        "import numpy as np\n",
        "\n",
        "class SimpleRAMNeuron:\n",
        "    def __init__(self):\n",
        "        self.memory = set()\n",
        "\n",
        "    def train(self, X):\n",
        "        for entrada in X:\n",
        "            chave = tuple(entrada)\n",
        "            self.memory.add(chave)\n",
        "\n",
        "    def predict(self, x):\n",
        "        return 1 if tuple(x) in self.memory else 0"
      ],
      "metadata": {
        "id": "RXmNRejJiyTU"
      },
      "execution_count": 2,
      "outputs": []
    },
    {
      "cell_type": "code",
      "source": [
        "# Exemplo:\n",
        "entradas_doente = [[1, 0, 1], [1, 1, 1]]\n",
        "entradas_saudavel = [[0, 0, 0], [0, 1, 0]]"
      ],
      "metadata": {
        "id": "c1o4KQExjKKu"
      },
      "execution_count": 3,
      "outputs": []
    },
    {
      "cell_type": "code",
      "source": [
        "# Configurações para pacientes doentes e saudáveis\n",
        "ram_doente = SimpleRAMNeuron()\n",
        "ram_saudavel = SimpleRAMNeuron()"
      ],
      "metadata": {
        "id": "nMtm6p8qjay2"
      },
      "execution_count": 4,
      "outputs": []
    },
    {
      "cell_type": "code",
      "source": [
        "ram_doente.train(entradas_doente)\n",
        "ram_saudavel.train(entradas_saudavel)"
      ],
      "metadata": {
        "id": "zDtxqijKjqBR"
      },
      "execution_count": 5,
      "outputs": []
    },
    {
      "cell_type": "code",
      "source": [
        "# Testando nova entrada\n",
        "pacientes =[[1, 0, 1],[0, 0, 0]]\n",
        "for paciente in pacientes:\n",
        "  print(f\"O resultado para o {paciente} temos:\")\n",
        "  print(\"Doente?\", ram_doente.predict(paciente))\n",
        "  print(\"Saudável?\", ram_saudavel.predict(paciente), \"\\n\")"
      ],
      "metadata": {
        "colab": {
          "base_uri": "https://localhost:8080/"
        },
        "id": "LWXrrPdljwX0",
        "outputId": "c88f7373-3198-4e24-cd6a-1471bf241cc5"
      },
      "execution_count": 8,
      "outputs": [
        {
          "output_type": "stream",
          "name": "stdout",
          "text": [
            "O resultado para o [1, 0, 1] temos:\n",
            "Doente? 1\n",
            "Saudável? 0 \n",
            "\n",
            "O resultado para o [0, 0, 0] temos:\n",
            "Doente? 0\n",
            "Saudável? 1 \n",
            "\n"
          ]
        }
      ]
    },
    {
      "cell_type": "code",
      "source": [
        "# @title Atividade em Sala\n",
        "# Triângulo\n",
        "# 0 1 0\n",
        "# 1 0 1\n",
        "# 1 1 1\n",
        "triangulo = [0, 1, 0, 1, 0, 1, 1, 1, 1]\n",
        "# Quadrado\n",
        "# 1 1 1\n",
        "# 1 0 1\n",
        "# 1 1 1\n",
        "quadrado = [1, 1, 1, 1, 0, 1, 1, 1, 1]\n",
        "# Circulo"
      ],
      "metadata": {
        "id": "aR2LkIUKmKSa"
      },
      "execution_count": 9,
      "outputs": []
    },
    {
      "cell_type": "code",
      "source": [
        "ram_triangulo = SimpleRAMNeuron()\n",
        "ram_quadrado = SimpleRAMNeuron()"
      ],
      "metadata": {
        "id": "St7bEDUgj78d"
      },
      "execution_count": 10,
      "outputs": []
    },
    {
      "cell_type": "code",
      "source": [
        "ram_triangulo.train([triangulo])\n",
        "ram_quadrado.train([quadrado])"
      ],
      "metadata": {
        "id": "lECiKkIKngtQ"
      },
      "execution_count": 11,
      "outputs": []
    },
    {
      "cell_type": "code",
      "source": [
        "saida_0 = ram_triangulo.predict(quadrado)\n",
        "saida_1 = ram_quadrado.predict(quadrado)"
      ],
      "metadata": {
        "id": "CDR5y2-TnlaX"
      },
      "execution_count": 19,
      "outputs": []
    },
    {
      "cell_type": "code",
      "source": [
        "saida_0, saida_1"
      ],
      "metadata": {
        "colab": {
          "base_uri": "https://localhost:8080/"
        },
        "id": "wtHIXPCooPZS",
        "outputId": "e54f4484-aa46-47e1-c8cd-8e03566544fc"
      },
      "execution_count": 20,
      "outputs": [
        {
          "output_type": "execute_result",
          "data": {
            "text/plain": [
              "(0, 1)"
            ]
          },
          "metadata": {},
          "execution_count": 20
        }
      ]
    },
    {
      "cell_type": "code",
      "source": [
        "if saida_0 == 1:\n",
        "  print(\"Triângulo\")\n",
        "elif saida_1 == 1:\n",
        "  print(\"Quadrado\")\n",
        "else:\n",
        "  print(\"Circulo\")"
      ],
      "metadata": {
        "colab": {
          "base_uri": "https://localhost:8080/"
        },
        "id": "qytVd-cDnxfA",
        "outputId": "dcf65156-1896-4ed8-f5ef-1cfdc907bc8b"
      },
      "execution_count": 21,
      "outputs": [
        {
          "output_type": "stream",
          "name": "stdout",
          "text": [
            "Quadrado\n"
          ]
        }
      ]
    },
    {
      "cell_type": "code",
      "source": [],
      "metadata": {
        "id": "9kxtjiuWoJ-5"
      },
      "execution_count": null,
      "outputs": []
    }
  ]
}